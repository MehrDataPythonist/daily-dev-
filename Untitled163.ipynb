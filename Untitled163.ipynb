{
  "nbformat": 4,
  "nbformat_minor": 0,
  "metadata": {
    "colab": {
      "provenance": [],
      "authorship_tag": "ABX9TyPGJdqZKLSgGk9RTTa6NRET",
      "include_colab_link": true
    },
    "kernelspec": {
      "name": "python3",
      "display_name": "Python 3"
    },
    "language_info": {
      "name": "python"
    }
  },
  "cells": [
    {
      "cell_type": "markdown",
      "metadata": {
        "id": "view-in-github",
        "colab_type": "text"
      },
      "source": [
        "<a href=\"https://colab.research.google.com/github/MehrDataPythonist/daily-dev-/blob/main/Untitled163.ipynb\" target=\"_parent\"><img src=\"https://colab.research.google.com/assets/colab-badge.svg\" alt=\"Open In Colab\"/></a>"
      ]
    },
    {
      "cell_type": "code",
      "execution_count": null,
      "metadata": {
        "id": "-bqPtu36grsp"
      },
      "outputs": [],
      "source": [
        "import subprocess\n",
        "import time\n",
        "import os\n",
        "\n",
        "def run_script(script_name, symbol, delay):\n",
        "    process = subprocess.Popen(['python', script_name, symbol, str(delay)],\n",
        "                               stdout=subprocess.PIPE,\n",
        "                               stderr=subprocess.PIPE)\n",
        "    return process\n",
        "\n",
        "def manage_scripts(script_list, restart_hours):\n",
        "    while True:\n",
        "        running_processes = []\n",
        "\n",
        "        print(f\"شروع اجرای اسکریپت‌ها. اجرای بعدی در {restart_hours} ساعت دیگر.\")\n",
        "\n",
        "        # اجرای تمام اسکریپت‌ها\n",
        "        for script in script_list:\n",
        "            process = run_script(script['name'], script['symbol'], script['delay'])\n",
        "            running_processes.append(process)\n",
        "            print(f\"اسکریپت {script['name']} با پارامترهای {script['symbol']} و {script['delay']} شروع شد.\")\n",
        "\n",
        "        # انتظار برای زمان مشخص شده توسط کاربر\n",
        "        time.sleep(restart_hours * 3600)\n",
        "\n",
        "        print(\"زمان اجرای مجدد فرا رسیده است. در حال توقف اسکریپت‌های فعلی...\")\n",
        "\n",
        "        # توقف تمام فرآیندها\n",
        "        for process in running_processes:\n",
        "            process.terminate()\n",
        "            stdout, stderr = process.communicate()\n",
        "            if stdout:\n",
        "                print(f\"خروجی استاندارد: {stdout.decode('utf-8')}\")\n",
        "            if stderr:\n",
        "                print(f\"خروجی خطا: {stderr.decode('utf-8')}\")\n",
        "\n",
        "        # پاک کردن خط اول هر فایل خروجی\n",
        "        for script in script_list:\n",
        "            output_file = f'history_{script[\"symbol\"]}_{script[\"delay\"]}.txt'\n",
        "            if os.path.exists(output_file):\n",
        "                with open(output_file, 'r') as f:\n",
        "                    lines = f.readlines()\n",
        "                with open(output_file, 'w') as f:\n",
        "                    f.writelines(lines[1:])\n",
        "                print(f\"خط اول فایل {output_file} حذف شد.\")\n",
        "\n",
        "        print(\"آماده‌سازی برای اجرای مجدد اسکریپت‌ها...\")\n",
        "\n",
        "# لیست اسکریپت‌ها و پارامترهای آنها\n",
        "scripts = [\n",
        "    {'name': 'your_original_script.py', 'symbol': 'FTMUSD', 'delay': 0},\n",
        "    {'name': 'your_original_script.py', 'symbol': 'BTCUSD', 'delay': 1},\n",
        "    # اضافه کردن سایر اسکریپت‌ها و پارامترهای آنها\n",
        "]\n",
        "\n",
        "# دریافت زمان بازآغازی از کاربر\n",
        "restart_hours = float(input('هر چند ساعت یک‌بار می‌خواهید اسکریپت‌ها مجدداً اجرا شوند؟ '))\n",
        "\n",
        "# شروع مدیریت اسکریپت‌ها\n",
        "manage_scripts(scripts, restart_hours)"
      ]
    }
  ]
}