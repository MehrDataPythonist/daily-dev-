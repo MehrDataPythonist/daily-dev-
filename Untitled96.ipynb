{
  "nbformat": 4,
  "nbformat_minor": 0,
  "metadata": {
    "colab": {
      "provenance": [],
      "authorship_tag": "ABX9TyPuJLK5xl/eTepPMtM5iJya",
      "include_colab_link": true
    },
    "kernelspec": {
      "name": "python3",
      "display_name": "Python 3"
    },
    "language_info": {
      "name": "python"
    }
  },
  "cells": [
    {
      "cell_type": "markdown",
      "metadata": {
        "id": "view-in-github",
        "colab_type": "text"
      },
      "source": [
        "<a href=\"https://colab.research.google.com/github/MehrDataPythonist/daily-dev-/blob/main/Untitled96.ipynb\" target=\"_parent\"><img src=\"https://colab.research.google.com/assets/colab-badge.svg\" alt=\"Open In Colab\"/></a>"
      ]
    },
    {
      "cell_type": "code",
      "source": [
        "def chap_tar_digit(adad):\n",
        "    # پیدا کردن چپ‌ترین رقم یک عدد\n",
        "    while adad >= 10:\n",
        "        adad //= 10\n",
        "    return adad\n",
        "\n",
        "def rast_tar_digit(adad):\n",
        "    # پیدا کردن راست‌ترین رقم یک عدد\n",
        "    return adad % 10\n",
        "\n",
        "def entekhab_sahih(astan, noe_gereh_ha, entekhab):\n",
        "    for gereh in range(len(astan)):\n",
        "        if gereh not in entekhab:\n",
        "            continue\n",
        "        noe_gereh = noe_gereh_ha[gereh]\n",
        "        hamsaye_ha = astan[gereh]\n",
        "        maghadir_hamsaye_ha = [entekhab[hamsaye] for hamsaye in hamsaye_ha if hamsaye in entekhab]\n",
        "\n",
        "        if not maghadir_hamsaye_ha:\n",
        "            continue\n",
        "\n",
        "        if noe_gereh == 'T':\n",
        "            zarb = 1\n",
        "            for maghadir in maghadir_hamsaye_ha:\n",
        "                zarb *= maghadir\n",
        "            if entekhab[gereh] != chap_tar_digit(zarb):\n",
        "                return False\n",
        "        elif noe_gereh == 'S':\n",
        "            zarb = 1\n",
        "            for maghadir in maghadir_hamsaye_ha:\n",
        "                zarb *= maghadir\n",
        "            if entekhab[gereh] != rast_tar_digit(zarb):\n",
        "                return False\n",
        "        elif noe_gereh == 'P':\n",
        "            jam = sum(maghadir_hamsaye_ha)\n",
        "            if entekhab[gereh] != chap_tar_digit(jam):\n",
        "                return False\n",
        "        elif noe_gereh == 'H':\n",
        "            jam = sum(maghadir_hamsaye_ha)\n",
        "            if entekhab[gereh] != rast_tar_digit(jam):\n",
        "                return False\n",
        "\n",
        "    return True\n",
        "\n",
        "def csp(astan, noe_gereh_ha, entekhab={}, gereh=0):\n",
        "    if gereh == len(astan):\n",
        "        return entekhab\n",
        "\n",
        "    for maghadir in range(1, 10):\n",
        "        entekhab[gereh] = maghadir\n",
        "        if entekhab_sahih(astan, noe_gereh_ha, entekhab):\n",
        "            natije = csp(astan, noe_gereh_ha, entekhab, gereh + 1)\n",
        "            if natije:\n",
        "                return natije\n",
        "        del entekhab[gereh]\n",
        "\n",
        "    return None\n",
        "\n",
        "def main():\n",
        "    input_data = \"\"\"\n",
        "1\n",
        "5 4\n",
        "T S P H O\n",
        "1 2\n",
        "1 3\n",
        "2 4\n",
        "3 5\n",
        "    \"\"\"\n",
        "    data = input_data.strip().split()\n",
        "\n",
        "    index = 0\n",
        "    tedad_test = int(data[index])\n",
        "    index += 1\n",
        "    natije_ha = []\n",
        "\n",
        "    for _ in range(tedad_test):\n",
        "        tedad_gereh = int(data[index])\n",
        "        tedad_aslan = int(data[index + 1])\n",
        "        index += 2\n",
        "\n",
        "        noe_gereh_ha = data[index:index + tedad_gereh]\n",
        "        index += tedad_gereh\n",
        "\n",
        "        astan = [[] for _ in range(tedad_gereh)]\n",
        "        for _ in range(tedad_aslan):\n",
        "            u = int(data[index]) - 1\n",
        "            v = int(data[index + 1]) - 1\n",
        "            index += 2\n",
        "            astan[u].append(v)\n",
        "            astan[v].append(u)\n",
        "\n",
        "        hal = csp(astan, noe_gereh_ha)\n",
        "        if hal:\n",
        "            natije_ha.append(' '.join(str(hal[i]) for i in range(tedad_gereh)))\n",
        "        else:\n",
        "            natije_ha.append('No solution')\n",
        "\n",
        "    for natije in natije_ha:\n",
        "        print(natije)\n",
        "\n",
        "if __name__ == \"__main__\":\n",
        "    main()"
      ],
      "metadata": {
        "colab": {
          "base_uri": "https://localhost:8080/"
        },
        "id": "gbmnEgaynPPn",
        "outputId": "33fdc948-5e5c-46a4-e2cd-07c7661bc80d"
      },
      "execution_count": 13,
      "outputs": [
        {
          "output_type": "stream",
          "name": "stdout",
          "text": [
            "1 1 1 1 9\n"
          ]
        }
      ]
    }
  ]
}