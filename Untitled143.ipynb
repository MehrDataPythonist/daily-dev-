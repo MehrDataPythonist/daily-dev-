{
  "nbformat": 4,
  "nbformat_minor": 0,
  "metadata": {
    "colab": {
      "provenance": [],
      "authorship_tag": "ABX9TyM7vOxpzTuuZ5j5dnVA6dXf",
      "include_colab_link": true
    },
    "kernelspec": {
      "name": "python3",
      "display_name": "Python 3"
    },
    "language_info": {
      "name": "python"
    }
  },
  "cells": [
    {
      "cell_type": "markdown",
      "metadata": {
        "id": "view-in-github",
        "colab_type": "text"
      },
      "source": [
        "<a href=\"https://colab.research.google.com/github/MehrDataPythonist/daily-dev-/blob/main/Untitled143.ipynb\" target=\"_parent\"><img src=\"https://colab.research.google.com/assets/colab-badge.svg\" alt=\"Open In Colab\"/></a>"
      ]
    },
    {
      "cell_type": "code",
      "execution_count": 1,
      "metadata": {
        "id": "1aWQEr-VZPQw"
      },
      "outputs": [],
      "source": [
        "%load_ext rpy2.ipython"
      ]
    },
    {
      "cell_type": "code",
      "source": [
        "%%R\n",
        "# نصب و بارگذاری بسته‌های لازم\n",
        "if (!require(bootstrap)) install.packages(\"bootstrap\")\n",
        "library(bootstrap)\n",
        "\n",
        "# داده‌های جمعیت (N = 82)\n",
        "lsat_population <- c(622, 542, 579, 653, 606, 576, 620, 615, 553, 607, 558, 596,\n",
        "                     635, 581, 661, 547, 599, 599, 611, 614, 610, 575, 555, 580,\n",
        "                     617, 622, 608, 632, 587, 581, 605, 704, 477, 591, 578, 572,\n",
        "                     615, 606, 603, 635, 595, 575, 573, 544, 645, 645, 562, 573,\n",
        "                     599, 556, 580, 590, 562, 560, 575, 641, 512, 631, 597, 621,\n",
        "                     617, 637, 572, 610, 562, 635, 614, 546, 598, 570, 666, 570,\n",
        "                     570, 533, 565, 606, 616, 636, 603, 598, 564, 575)\n",
        "\n",
        "gpa_population <- c(3.23, 2.83, 3.24, 3.12, 3.09, 3.39, 3.10, 3.40, 2.97, 2.91, 3.11,\n",
        "                    3.24, 3.30, 3.42, 3.21, 2.93, 3.23, 3.15, 3.35, 2.99, 3.14, 2.43,\n",
        "                    3.01, 3.07, 3.31, 3.34, 3.04, 3.29, 3.16, 3.17, 3.13, 3.36, 2.57,\n",
        "                    3.02, 3.03, 2.88, 3.37, 3.02, 3.23, 3.29, 2.98, 3.19, 2.92, 2.94,\n",
        "                    3.88, 3.85, 3.74, 3.45, 2.99, 2.80, 3.50, 3.40, 3.31, 2.93, 3.29,\n",
        "                    3.01, 3.21, 3.32, 3.24, 3.03, 3.03, 3.13, 3.21, 3.01, 2.82, 3.02,\n",
        "                    3.09, 3.01, 2.50, 3.16, 3.40, 3.15, 3.29, 2.85, 2.85, 3.10, 3.16,\n",
        "                    2.82, 2.74)\n",
        "\n",
        "# داده‌های نمونه (n = 15)\n",
        "sample_indices <- c(1, 4, 6, 10, 12, 13, 15, 18, 19, 27, 32, 35, 38, 50, 82)\n",
        "lsat_sample <- lsat_population[sample_indices]\n",
        "gpa_sample <- gpa_population[sample_indices]\n",
        "\n",
        "# محاسبه ضریب همبستگی خطی پیرسون برای جمعیت و نمونه\n",
        "cor_population <- cor(lsat_population, gpa_population)\n",
        "cor_sample <- cor(lsat_sample, gpa_sample)\n",
        "\n",
        "# تبدیل z فیشر برای ضریب همبستگی نمونه\n",
        "fisher_z <- function(r) {\n",
        "  0.5 * log((1 + r) / (1 - r))\n",
        "}\n",
        "\n",
        "# تبدیل z فیشر برای ضریب همبستگی جمعیت و نمونه\n",
        "fisher_z_population <- fisher_z(cor_population)\n",
        "fisher_z_sample <- fisher_z(cor_sample)\n",
        "\n",
        "# چاپ نتایج\n",
        "cat(\"ضریب همبستگی جمعیت: \", cor_population, \"\\n\")\n",
        "cat(\"ضریب همبستگی نمونه: \", cor_sample, \"\\n\")\n",
        "cat(\"تبدیل z فیشر برای جمعیت: \", fisher_z_population, \"\\n\")\n",
        "cat(\"تبدیل z فیشر برای نمونه: \", fisher_z_sample, \"\\n\")\n",
        "\n",
        "# محاسبه‌ی بوت‌استرپ برای ضریب همبستگی\n",
        "bootstrap_correlation <- function(data, indices) {\n",
        "  sample_data <- data[indices, ]\n",
        "  cor(sample_data$lsat, sample_data$gpa)\n",
        "}\n",
        "\n",
        "data <- data.frame(lsat = lsat_sample, gpa = gpa_sample)\n",
        "boot_result <- boot(data, statistic = bootstrap_correlation, R = 5000)\n",
        "\n",
        "# میانگین و انحراف معیار ضریب همبستگی بوت‌استرپ\n",
        "boot_mean <- mean(boot_result$t)\n",
        "boot_sd <- sd(boot_result$t)\n",
        "\n",
        "cat(\"میانگین ضریب همبستگی بوت‌استرپ: \", boot_mean, \"\\n\")\n",
        "cat(\"انحراف معیار ضریب همبستگی بوت‌استرپ: \", boot_sd, \"\\n\")\n",
        "\n",
        "# فواصل اطمینان بوت‌استرپ برای ضریب همبستگی\n",
        "boot_ci <- boot.ci(boot_result, type = \"perc\")\n",
        "cat(\"فاصله اطمینان بوت‌استرپ 95٪: \", boot_ci$percent[4:5], \"\\n\")"
      ],
      "metadata": {
        "colab": {
          "base_uri": "https://localhost:8080/"
        },
        "id": "b7KqnDU7ZVUH",
        "outputId": "850186dd-5205-4c00-c662-15fa309fdde1"
      },
      "execution_count": 2,
      "outputs": [
        {
          "output_type": "stream",
          "name": "stderr",
          "text": [
            "WARNING:rpy2.rinterface_lib.callbacks:R[write to console]: Loading required package: bootstrap\n",
            "\n",
            "WARNING:rpy2.rinterface_lib.callbacks:R[write to console]: Installing package into ‘/usr/local/lib/R/site-library’\n",
            "(as ‘lib’ is unspecified)\n",
            "\n",
            "WARNING:rpy2.rinterface_lib.callbacks:R[write to console]: trying URL 'https://cran.rstudio.com/src/contrib/bootstrap_2019.6.tar.gz'\n",
            "\n",
            "WARNING:rpy2.rinterface_lib.callbacks:R[write to console]: Content type 'application/x-gzip'\n",
            "WARNING:rpy2.rinterface_lib.callbacks:R[write to console]:  length 30791 bytes (30 KB)\n",
            "\n",
            "WARNING:rpy2.rinterface_lib.callbacks:R[write to console]: =\n",
            "WARNING:rpy2.rinterface_lib.callbacks:R[write to console]: =\n",
            "WARNING:rpy2.rinterface_lib.callbacks:R[write to console]: =\n",
            "WARNING:rpy2.rinterface_lib.callbacks:R[write to console]: =\n",
            "WARNING:rpy2.rinterface_lib.callbacks:R[write to console]: =\n",
            "WARNING:rpy2.rinterface_lib.callbacks:R[write to console]: =\n",
            "WARNING:rpy2.rinterface_lib.callbacks:R[write to console]: =\n",
            "WARNING:rpy2.rinterface_lib.callbacks:R[write to console]: =\n",
            "WARNING:rpy2.rinterface_lib.callbacks:R[write to console]: =\n",
            "WARNING:rpy2.rinterface_lib.callbacks:R[write to console]: =\n",
            "WARNING:rpy2.rinterface_lib.callbacks:R[write to console]: =\n",
            "WARNING:rpy2.rinterface_lib.callbacks:R[write to console]: =\n",
            "WARNING:rpy2.rinterface_lib.callbacks:R[write to console]: =\n",
            "WARNING:rpy2.rinterface_lib.callbacks:R[write to console]: =\n",
            "WARNING:rpy2.rinterface_lib.callbacks:R[write to console]: =\n",
            "WARNING:rpy2.rinterface_lib.callbacks:R[write to console]: =\n",
            "WARNING:rpy2.rinterface_lib.callbacks:R[write to console]: =\n",
            "WARNING:rpy2.rinterface_lib.callbacks:R[write to console]: =\n",
            "WARNING:rpy2.rinterface_lib.callbacks:R[write to console]: =\n",
            "WARNING:rpy2.rinterface_lib.callbacks:R[write to console]: =\n",
            "WARNING:rpy2.rinterface_lib.callbacks:R[write to console]: =\n",
            "WARNING:rpy2.rinterface_lib.callbacks:R[write to console]: =\n",
            "WARNING:rpy2.rinterface_lib.callbacks:R[write to console]: =\n",
            "WARNING:rpy2.rinterface_lib.callbacks:R[write to console]: =\n",
            "WARNING:rpy2.rinterface_lib.callbacks:R[write to console]: =\n",
            "WARNING:rpy2.rinterface_lib.callbacks:R[write to console]: =\n",
            "WARNING:rpy2.rinterface_lib.callbacks:R[write to console]: =\n",
            "WARNING:rpy2.rinterface_lib.callbacks:R[write to console]: =\n",
            "WARNING:rpy2.rinterface_lib.callbacks:R[write to console]: =\n",
            "WARNING:rpy2.rinterface_lib.callbacks:R[write to console]: =\n",
            "WARNING:rpy2.rinterface_lib.callbacks:R[write to console]: =\n",
            "WARNING:rpy2.rinterface_lib.callbacks:R[write to console]: =\n",
            "WARNING:rpy2.rinterface_lib.callbacks:R[write to console]: =\n",
            "WARNING:rpy2.rinterface_lib.callbacks:R[write to console]: =\n",
            "WARNING:rpy2.rinterface_lib.callbacks:R[write to console]: =\n",
            "WARNING:rpy2.rinterface_lib.callbacks:R[write to console]: =\n",
            "WARNING:rpy2.rinterface_lib.callbacks:R[write to console]: =\n",
            "WARNING:rpy2.rinterface_lib.callbacks:R[write to console]: =\n",
            "WARNING:rpy2.rinterface_lib.callbacks:R[write to console]: =\n",
            "WARNING:rpy2.rinterface_lib.callbacks:R[write to console]: =\n",
            "WARNING:rpy2.rinterface_lib.callbacks:R[write to console]: =\n",
            "WARNING:rpy2.rinterface_lib.callbacks:R[write to console]: =\n",
            "WARNING:rpy2.rinterface_lib.callbacks:R[write to console]: =\n",
            "WARNING:rpy2.rinterface_lib.callbacks:R[write to console]: =\n",
            "WARNING:rpy2.rinterface_lib.callbacks:R[write to console]: =\n",
            "WARNING:rpy2.rinterface_lib.callbacks:R[write to console]: =\n",
            "WARNING:rpy2.rinterface_lib.callbacks:R[write to console]: =\n",
            "WARNING:rpy2.rinterface_lib.callbacks:R[write to console]: =\n",
            "WARNING:rpy2.rinterface_lib.callbacks:R[write to console]: =\n",
            "WARNING:rpy2.rinterface_lib.callbacks:R[write to console]: =\n",
            "WARNING:rpy2.rinterface_lib.callbacks:R[write to console]: \n",
            "\n",
            "WARNING:rpy2.rinterface_lib.callbacks:R[write to console]: downloaded 30 KB\n",
            "\n",
            "\n",
            "WARNING:rpy2.rinterface_lib.callbacks:R[write to console]: \n",
            "\n",
            "WARNING:rpy2.rinterface_lib.callbacks:R[write to console]: \n",
            "WARNING:rpy2.rinterface_lib.callbacks:R[write to console]: The downloaded source packages are in\n",
            "\t‘/tmp/RtmprdpcQ7/downloaded_packages’\n",
            "WARNING:rpy2.rinterface_lib.callbacks:R[write to console]: \n",
            "WARNING:rpy2.rinterface_lib.callbacks:R[write to console]: \n",
            "\n",
            "WARNING:rpy2.rinterface_lib.callbacks:R[write to console]: Error in cor(lsat_population, gpa_population) : incompatible dimensions\n",
            "\n",
            "WARNING:rpy2.rinterface_lib.callbacks:R[write to console]: In addition: \n",
            "WARNING:rpy2.rinterface_lib.callbacks:R[write to console]: Warning message:\n",
            "\n",
            "WARNING:rpy2.rinterface_lib.callbacks:R[write to console]: In library(package, lib.loc = lib.loc, character.only = TRUE, logical.return = TRUE,  :\n",
            "WARNING:rpy2.rinterface_lib.callbacks:R[write to console]: \n",
            " \n",
            "WARNING:rpy2.rinterface_lib.callbacks:R[write to console]:  there is no package called ‘bootstrap’\n",
            "\n"
          ]
        },
        {
          "output_type": "stream",
          "name": "stdout",
          "text": [
            "\n",
            "Error in cor(lsat_population, gpa_population) : incompatible dimensions\n"
          ]
        }
      ]
    }
  ]
}