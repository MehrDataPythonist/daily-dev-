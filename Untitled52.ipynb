{
  "nbformat": 4,
  "nbformat_minor": 0,
  "metadata": {
    "colab": {
      "provenance": [],
      "authorship_tag": "ABX9TyMGpXizMLiPyuo6RirUpwFw",
      "include_colab_link": true
    },
    "kernelspec": {
      "name": "python3",
      "display_name": "Python 3"
    },
    "language_info": {
      "name": "python"
    }
  },
  "cells": [
    {
      "cell_type": "markdown",
      "metadata": {
        "id": "view-in-github",
        "colab_type": "text"
      },
      "source": [
        "<a href=\"https://colab.research.google.com/github/MehrDataPythonist/daily-dev-/blob/main/Untitled52.ipynb\" target=\"_parent\"><img src=\"https://colab.research.google.com/assets/colab-badge.svg\" alt=\"Open In Colab\"/></a>"
      ]
    },
    {
      "cell_type": "code",
      "source": [
        "def min_matrix_multiplication_cost(n, d):\n",
        "    M = [[0] * (n + 1) for _ in range(n + 1)]\n",
        "    Bestk = [[0] * (n + 1) for _ in range(n + 1)]\n",
        "\n",
        "    for i in range(1, n + 1):\n",
        "        M[i][i] = 0\n",
        "        Bestk[i][i] = i\n",
        "\n",
        "    for s in range(1, n):\n",
        "        for i in range(1, n - s + 1):\n",
        "            j = i + s\n",
        "            min_cost = float('inf')\n",
        "            best_k = 0\n",
        "            for k in range(i, j):\n",
        "                cost = M[i][k] + M[k + 1][j] + d[i - 1] * d[k] * d[j]\n",
        "                if cost < min_cost:\n",
        "                    min_cost = cost\n",
        "                    best_k = k\n",
        "            M[i][j] = min_cost\n",
        "            Bestk[i][j] = best_k\n",
        "\n",
        "    return M[1][n], Bestk\n",
        "\n",
        "def print_optimal_parenthesization(Bestk, i, j):\n",
        "    if i == j:\n",
        "        print(f\"A{i}\", end=\"\")\n",
        "    elif j - i == 1:\n",
        "        print(f\"(A{i}A{j})\", end=\"\")\n",
        "    else:\n",
        "        k = Bestk[i][j]\n",
        "        print_optimal_parenthesization(Bestk, i, k)\n",
        "        print_optimal_parenthesization(Bestk, k + 1, j)\n",
        "\n",
        "# Test the code with the given input\n",
        "d = [10, 20, 2, 5, 30, 40]\n",
        "n = len(d) - 1\n",
        "min_cost, Bestk = min_matrix_multiplication_cost(n, d)\n",
        "print(\"Minimum cost:\", min_cost)\n",
        "print(\"Optimal parenthesization: \", end=\"\")\n",
        "print_optimal_parenthesization(Bestk, 1, n)\n",
        "print()"
      ],
      "metadata": {
        "colab": {
          "base_uri": "https://localhost:8080/"
        },
        "id": "dexisksC0HZE",
        "outputId": "c249ed4f-1296-438c-ddea-c8530e19b7e4"
      },
      "execution_count": null,
      "outputs": [
        {
          "output_type": "stream",
          "name": "stdout",
          "text": [
            "Minimum cost: 3900\n",
            "Optimal parenthesization: (A1A2)(A3A4)A5\n"
          ]
        }
      ]
    },
    {
      "cell_type": "code",
      "source": [
        "def min_matrix_multiplication_cost(n, d):\n",
        "    M = [[0] * (n + 1) for _ in range(n + 1)]\n",
        "    Bestk = [[0] * (n + 1) for _ in range(n + 1)]\n",
        "\n",
        "    for i in range(1, n + 1):\n",
        "        M[i][i] = 0\n",
        "        Bestk[i][i] = i\n",
        "\n",
        "    for s in range(1, n):\n",
        "        for i in range(1, n - s + 1):\n",
        "            j = i + s\n",
        "            min_cost = float('inf')\n",
        "            best_k = 0\n",
        "            for k in range(i, j):\n",
        "                cost = M[i][k] + M[k + 1][j] + d[i - 1] * d[k] * d[j]\n",
        "                if cost < min_cost:\n",
        "                    min_cost = cost\n",
        "                    best_k = k\n",
        "            M[i][j] = min_cost\n",
        "            Bestk[i][j] = best_k\n",
        "\n",
        "    return M[1][n], Bestk\n",
        "\n",
        "def print_optimal_parenthesization(Bestk, i, j):\n",
        "    if i == j:\n",
        "        print(f\"A{i}\", end=\"\")\n",
        "    elif j - i == 1:\n",
        "        print(f\"(A{i}A{j})\", end=\"\")\n",
        "    else:\n",
        "        k = Bestk[i][j]\n",
        "        print_optimal_parenthesization(Bestk, i, k)\n",
        "        print_optimal_parenthesization(Bestk, k + 1, j)\n",
        "\n",
        "# Test the code with the given input\n",
        "d = [13, 5, 89, 3, 34]\n",
        "n = len(d) - 1\n",
        "min_cost, Bestk = min_matrix_multiplication_cost(n, d)\n",
        "print(\"Minimum cost:\", min_cost)\n",
        "print(\"Optimal parenthesization: \", end=\"\")\n",
        "print_optimal_parenthesization(Bestk, 1, n)\n",
        "print()"
      ],
      "metadata": {
        "colab": {
          "base_uri": "https://localhost:8080/"
        },
        "id": "6tlfdG5YnnL_",
        "outputId": "52c73294-87b0-4862-b006-91033f6731e7"
      },
      "execution_count": null,
      "outputs": [
        {
          "output_type": "stream",
          "name": "stdout",
          "text": [
            "Minimum cost: 2856\n",
            "Optimal parenthesization: A1(A2A3)A4\n"
          ]
        }
      ]
    },
    {
      "cell_type": "code",
      "source": [
        "def min_matrix_multiplication_cost(n, d):\n",
        "    M = [[0] * (n + 1) for _ in range(n + 1)]\n",
        "    Bestk = [[0] * (n + 1) for _ in range(n + 1)]\n",
        "\n",
        "    for i in range(1, n + 1):\n",
        "        M[i][i] = 0\n",
        "        Bestk[i][i] = i\n",
        "\n",
        "    for s in range(1, n):\n",
        "        for i in range(1, n - s + 1):\n",
        "            j = i + s\n",
        "            min_cost = float('inf')\n",
        "            best_k = 0\n",
        "            for k in range(i, j):\n",
        "                cost = M[i][k] + M[k + 1][j] + d[i - 1] * d[k] * d[j]\n",
        "                if cost < min_cost:\n",
        "                    min_cost = cost\n",
        "                    best_k = k\n",
        "            M[i][j] = min_cost\n",
        "            Bestk[i][j] = best_k\n",
        "\n",
        "    return M[1][n], Bestk\n",
        "\n",
        "# Test the code with the given input\n",
        "d = [13, 5, 89, 3, 34]\n",
        "n = len(d) - 1\n",
        "min_cost, Bestk = min_matrix_multiplication_cost(n, d)\n",
        "print(\"Minimum cost:\", min_cost)"
      ],
      "metadata": {
        "id": "D2ChUNOKIytr",
        "outputId": "aba6b2f1-4c55-4b3e-a2f1-98b84af93f27",
        "colab": {
          "base_uri": "https://localhost:8080/"
        }
      },
      "execution_count": null,
      "outputs": [
        {
          "output_type": "stream",
          "name": "stdout",
          "text": [
            "Minimum cost: 2856\n"
          ]
        }
      ]
    },
    {
      "cell_type": "markdown",
      "source": [
        "Step 1: `print_optimal_parenthesization(Bestk, 1, 4)`\n",
        "- The function is called with `i = 1` and `j = 4`, representing the entire matrix chain.\n",
        "- Since `i != j` and `j - i > 1`, it enters the `else` block.\n",
        "- It retrieves the optimal split point `k` from `Bestk[1][4]`, which is `3`.\n",
        "- The function makes two recursive calls:\n",
        "  - `print_optimal_parenthesization(Bestk, 1, 3)`\n",
        "  - `print_optimal_parenthesization(Bestk, 4, 4)`\n",
        "\n",
        "Step 2: `print_optimal_parenthesization(Bestk, 1, 3)`\n",
        "- The function is called with `i = 1` and `j = 3`.\n",
        "- Since `i != j` and `j - i > 1`, it enters the `else` block.\n",
        "- It retrieves the optimal split point `k` from `Bestk[1][3]`, which is `1`.\n",
        "- The function makes two recursive calls:\n",
        "  - `print_optimal_parenthesization(Bestk, 1, 1)`\n",
        "  - `print_optimal_parenthesization(Bestk, 2, 3)`\n",
        "\n",
        "Step 3: `print_optimal_parenthesization(Bestk, 1, 1)`\n",
        "- The function is called with `i = 1` and `j = 1`.\n",
        "- Since `i == j`, it enters the base case and prints `A1` without any parentheses.\n",
        "\n",
        "Step 4: `print_optimal_parenthesization(Bestk, 2, 3)`\n",
        "- The function is called with `i = 2` and `j = 3`.\n",
        "- Since `j - i == 1`, it enters the `elif` block and prints `(A2A3)` with parentheses.\n",
        "\n",
        "Step 5: Backtracking to `print_optimal_parenthesization(Bestk, 1, 3)`\n",
        "- The recursive calls in Step 3 and Step 4 have completed.\n",
        "- The function prints `(A1(A2A3))` based on the recursive calls.\n",
        "\n",
        "Step 6: `print_optimal_parenthesization(Bestk, 4, 4)`\n",
        "- The function is called with `i = 4` and `j = 4`.\n",
        "- Since `i == j`, it enters the base case and prints `A4` without any parentheses.\n",
        "\n",
        "Step 7: Backtracking to `print_optimal_parenthesization(Bestk, 1, 4)`\n",
        "- The recursive calls in Step 5 and Step 6 have completed.\n",
        "- The function prints `((A1(A2A3))A4)` based on the recursive calls.\n",
        "\n",
        "The final output of `print_optimal_parenthesization(Bestk, 1, 4)` is:\n",
        "\n",
        "```\n",
        "((A1(A2A3))A4)\n",
        "```\n",
        "\n",
        "This represents the optimal parenthesization for multiplying the matrices A1, A2, A3, and A4 based on the given `Bestk` table."
      ],
      "metadata": {
        "id": "l-jjj1wlfNzu"
      }
    },
    {
      "cell_type": "code",
      "source": [
        "import random\n",
        "\n",
        "def generate_random_dimensions(n):\n",
        "    \"\"\"Generate random dimensions for n matrices\"\"\"\n",
        "    d = [random.randint(1, 10) for _ in range(n + 1)]\n",
        "    return d\n",
        "\n",
        "for i in range(10):\n",
        "    n = random.randint(2, 5)  # Number of matrices\n",
        "    d = generate_random_dimensions(n)\n",
        "    print(f\"Run {i+1}: n={n}, d={d}\")\n",
        "    cost, Bestk = min_matrix_multiplication_cost(n, d)\n",
        "    print(f\"Minimum cost: {cost}\")\n",
        "    print(\"Optimal parenthesization:\")\n",
        "    print_optimal_parenthesization(Bestk, 1, n)\n",
        "    print()"
      ],
      "metadata": {
        "colab": {
          "base_uri": "https://localhost:8080/"
        },
        "id": "ofbz-eNSl0Sw",
        "outputId": "3614be8f-4b57-4349-fba2-84e797c82cde"
      },
      "execution_count": null,
      "outputs": [
        {
          "output_type": "stream",
          "name": "stdout",
          "text": [
            "Run 1: n=5, d=[5, 6, 2, 7, 5, 10]\n",
            "Minimum cost: 330\n",
            "Optimal parenthesization:\n",
            "(A1A2)(A3A4)A5\n",
            "Run 2: n=5, d=[1, 4, 5, 6, 2, 4]\n",
            "Minimum cost: 70\n",
            "Optimal parenthesization:\n",
            "(A1A2)A3A4A5\n",
            "Run 3: n=3, d=[6, 2, 4, 2]\n",
            "Minimum cost: 40\n",
            "Optimal parenthesization:\n",
            "A1(A2A3)\n",
            "Run 4: n=3, d=[1, 1, 7, 10]\n",
            "Minimum cost: 77\n",
            "Optimal parenthesization:\n",
            "(A1A2)A3\n",
            "Run 5: n=3, d=[5, 3, 10, 6]\n",
            "Minimum cost: 270\n",
            "Optimal parenthesization:\n",
            "A1(A2A3)\n",
            "Run 6: n=5, d=[2, 1, 6, 7, 8, 4]\n",
            "Minimum cost: 138\n",
            "Optimal parenthesization:\n",
            "A1(A2A3)A4A5\n",
            "Run 7: n=5, d=[9, 9, 8, 6, 4, 9]\n",
            "Minimum cost: 1128\n",
            "Optimal parenthesization:\n",
            "A1A2(A3A4)A5\n",
            "Run 8: n=4, d=[9, 7, 3, 8, 4]\n",
            "Minimum cost: 393\n",
            "Optimal parenthesization:\n",
            "(A1A2)(A3A4)\n",
            "Run 9: n=4, d=[3, 4, 2, 9, 5]\n",
            "Minimum cost: 144\n",
            "Optimal parenthesization:\n",
            "(A1A2)(A3A4)\n",
            "Run 10: n=2, d=[8, 6, 7]\n",
            "Minimum cost: 336\n",
            "Optimal parenthesization:\n",
            "(A1A2)\n"
          ]
        }
      ]
    }
  ]
}